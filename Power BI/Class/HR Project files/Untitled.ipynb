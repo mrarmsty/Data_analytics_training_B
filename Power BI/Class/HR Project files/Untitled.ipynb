{
 "cells": [
  {
   "cell_type": "code",
   "execution_count": 18,
   "id": "619366d6",
   "metadata": {},
   "outputs": [],
   "source": [
    "import pandas as pd\n",
    "import numpy as np\n",
    "from functools import reduce"
   ]
  },
  {
   "cell_type": "code",
   "execution_count": 2,
   "id": "61793b89",
   "metadata": {},
   "outputs": [],
   "source": [
    "df = pd.read_csv(\"staff update.csv\")"
   ]
  },
  {
   "cell_type": "code",
   "execution_count": 3,
   "id": "1b3e8268",
   "metadata": {
    "scrolled": false
   },
   "outputs": [
    {
     "data": {
      "text/html": [
       "<div>\n",
       "<style scoped>\n",
       "    .dataframe tbody tr th:only-of-type {\n",
       "        vertical-align: middle;\n",
       "    }\n",
       "\n",
       "    .dataframe tbody tr th {\n",
       "        vertical-align: top;\n",
       "    }\n",
       "\n",
       "    .dataframe thead th {\n",
       "        text-align: right;\n",
       "    }\n",
       "</style>\n",
       "<table border=\"1\" class=\"dataframe\">\n",
       "  <thead>\n",
       "    <tr style=\"text-align: right;\">\n",
       "      <th></th>\n",
       "      <th>Retrenchment</th>\n",
       "      <th>Will be retrenched</th>\n",
       "      <th>Promotion</th>\n",
       "    </tr>\n",
       "  </thead>\n",
       "  <tbody>\n",
       "    <tr>\n",
       "      <th>0</th>\n",
       "      <td>Abbey Schindler</td>\n",
       "      <td>0</td>\n",
       "      <td>Adelaide L Harrop</td>\n",
       "    </tr>\n",
       "    <tr>\n",
       "      <th>1</th>\n",
       "      <td>Abe J Macleod</td>\n",
       "      <td>0</td>\n",
       "      <td>Aiko Blossom</td>\n",
       "    </tr>\n",
       "    <tr>\n",
       "      <th>2</th>\n",
       "      <td>Abe Morales</td>\n",
       "      <td>0</td>\n",
       "      <td>Alexis Q Grose</td>\n",
       "    </tr>\n",
       "    <tr>\n",
       "      <th>3</th>\n",
       "      <td>Abe X Paro</td>\n",
       "      <td>0</td>\n",
       "      <td>Aliza X Sammons</td>\n",
       "    </tr>\n",
       "    <tr>\n",
       "      <th>4</th>\n",
       "      <td>Abram Q Keffer</td>\n",
       "      <td>0</td>\n",
       "      <td>America V Lobel</td>\n",
       "    </tr>\n",
       "  </tbody>\n",
       "</table>\n",
       "</div>"
      ],
      "text/plain": [
       "      Retrenchment  Will be retrenched          Promotion\n",
       "0  Abbey Schindler                   0  Adelaide L Harrop\n",
       "1    Abe J Macleod                   0       Aiko Blossom\n",
       "2      Abe Morales                   0     Alexis Q Grose\n",
       "3       Abe X Paro                   0    Aliza X Sammons\n",
       "4   Abram Q Keffer                   0    America V Lobel"
      ]
     },
     "execution_count": 3,
     "metadata": {},
     "output_type": "execute_result"
    }
   ],
   "source": [
    "df.head()"
   ]
  },
  {
   "cell_type": "code",
   "execution_count": 16,
   "id": "b804392f",
   "metadata": {},
   "outputs": [
    {
     "data": {
      "text/html": [
       "<div>\n",
       "<style scoped>\n",
       "    .dataframe tbody tr th:only-of-type {\n",
       "        vertical-align: middle;\n",
       "    }\n",
       "\n",
       "    .dataframe tbody tr th {\n",
       "        vertical-align: top;\n",
       "    }\n",
       "\n",
       "    .dataframe thead th {\n",
       "        text-align: right;\n",
       "    }\n",
       "</style>\n",
       "<table border=\"1\" class=\"dataframe\">\n",
       "  <thead>\n",
       "    <tr style=\"text-align: right;\">\n",
       "      <th></th>\n",
       "      <th>Retrenchment</th>\n",
       "    </tr>\n",
       "  </thead>\n",
       "  <tbody>\n",
       "    <tr>\n",
       "      <th>0</th>\n",
       "      <td>Abbey Schindler</td>\n",
       "    </tr>\n",
       "    <tr>\n",
       "      <th>1</th>\n",
       "      <td>Abe J Macleod</td>\n",
       "    </tr>\n",
       "  </tbody>\n",
       "</table>\n",
       "</div>"
      ],
      "text/plain": [
       "      Retrenchment\n",
       "0  Abbey Schindler\n",
       "1    Abe J Macleod"
      ]
     },
     "execution_count": 16,
     "metadata": {},
     "output_type": "execute_result"
    }
   ],
   "source": [
    "df1 = df[['Retrenchment']]\n",
    "df1.head(2)"
   ]
  },
  {
   "cell_type": "code",
   "execution_count": 15,
   "id": "1aacde27",
   "metadata": {},
   "outputs": [
    {
     "name": "stderr",
     "output_type": "stream",
     "text": [
      "C:\\Users\\lenovo\\AppData\\Local\\Temp\\ipykernel_12356\\1844100121.py:2: SettingWithCopyWarning: \n",
      "A value is trying to be set on a copy of a slice from a DataFrame\n",
      "\n",
      "See the caveats in the documentation: https://pandas.pydata.org/pandas-docs/stable/user_guide/indexing.html#returning-a-view-versus-a-copy\n",
      "  df2.rename(columns = {'Promotion':'Retrenchment'}, inplace=True)\n"
     ]
    },
    {
     "data": {
      "text/html": [
       "<div>\n",
       "<style scoped>\n",
       "    .dataframe tbody tr th:only-of-type {\n",
       "        vertical-align: middle;\n",
       "    }\n",
       "\n",
       "    .dataframe tbody tr th {\n",
       "        vertical-align: top;\n",
       "    }\n",
       "\n",
       "    .dataframe thead th {\n",
       "        text-align: right;\n",
       "    }\n",
       "</style>\n",
       "<table border=\"1\" class=\"dataframe\">\n",
       "  <thead>\n",
       "    <tr style=\"text-align: right;\">\n",
       "      <th></th>\n",
       "      <th>Retrenchment</th>\n",
       "    </tr>\n",
       "  </thead>\n",
       "  <tbody>\n",
       "    <tr>\n",
       "      <th>0</th>\n",
       "      <td>Adelaide L Harrop</td>\n",
       "    </tr>\n",
       "    <tr>\n",
       "      <th>1</th>\n",
       "      <td>Aiko Blossom</td>\n",
       "    </tr>\n",
       "  </tbody>\n",
       "</table>\n",
       "</div>"
      ],
      "text/plain": [
       "        Retrenchment\n",
       "0  Adelaide L Harrop\n",
       "1       Aiko Blossom"
      ]
     },
     "execution_count": 15,
     "metadata": {},
     "output_type": "execute_result"
    }
   ],
   "source": [
    "df2 = df[['Promotion']]\n",
    "df2.rename(columns = {'Promotion':'Retrenchment'}, inplace=True)\n",
    "df2.head(2)"
   ]
  },
  {
   "cell_type": "code",
   "execution_count": 26,
   "id": "9638d328",
   "metadata": {},
   "outputs": [
    {
     "data": {
      "text/plain": [
       "['Julius Q Stock',\n",
       " 'Ken X Weisberg',\n",
       " 'Devin Hales',\n",
       " 'Detra D Rymer',\n",
       " 'Jon Arvizu',\n",
       " 'Elsy B Latta',\n",
       " 'Taylor Thill',\n",
       " 'Toney W Bollman',\n",
       " 'Alexis Q Grose',\n",
       " 'Jamel Meaney',\n",
       " 'Adelaide L Harrop',\n",
       " 'Amiee Z Chaffins',\n",
       " 'Reinaldo G Castellanos',\n",
       " 'America V Lobel',\n",
       " 'Mack L Lykes',\n",
       " 'Fernando S Korhonen',\n",
       " 'Maximina K Frates',\n",
       " 'Jeneva Y Bybee',\n",
       " 'Toya B Rawlins',\n",
       " 'Jon Behler',\n",
       " 'Valene Z Woodmansee',\n",
       " 'Jeff E Lucero',\n",
       " 'Buck H Rancourt',\n",
       " 'Carolynn V Moynihan',\n",
       " 'Jerlene P Dunnigan',\n",
       " 'Vaughn Garica',\n",
       " 'Carmelia E Bergeron',\n",
       " 'Sheryll X Broadbent',\n",
       " 'Renaldo K Cheatham',\n",
       " 'Kylie K Freda',\n",
       " 'Carolin T Loya',\n",
       " 'Narcisa C Rayburn',\n",
       " 'Jordan Phu',\n",
       " 'Keira Y Till',\n",
       " 'Stephan Q Ranger',\n",
       " 'Inocencia Z Buteau',\n",
       " 'Walton S Keim',\n",
       " 'Candelaria Zajicek',\n",
       " 'Aliza X Sammons',\n",
       " 'Celine Baskin',\n",
       " 'Clemente S Wiechmann',\n",
       " 'Cecily D Houser',\n",
       " 'Garrett S Nolette',\n",
       " 'Garnett Dryer',\n",
       " 'Jamaal Z Resto',\n",
       " 'Kendrick C Burchette',\n",
       " 'Larry K Mash',\n",
       " 'Susana H Hooks',\n",
       " 'Vernell X Amado',\n",
       " 'Kenton Q Villalta',\n",
       " 'Aiko Blossom',\n",
       " 'Carlotta T Ryles',\n",
       " 'Jayson S Carrol',\n",
       " 'Kaye Tubbs',\n",
       " 'Scott D Torrey',\n",
       " 'Nettie T Mccandless',\n",
       " 'Deanna P Scoggin',\n",
       " 'Jolanda Dewees',\n",
       " 'Christie Rodger',\n",
       " 'Andrew Detweiler',\n",
       " 'Loren H Mckenzie',\n",
       " 'Tiny Q Llanos',\n",
       " 'Brendon E Mone',\n",
       " 'Patria D Riedel',\n",
       " 'Stewart Mazurek',\n",
       " 'Taneka Q Church',\n",
       " 'Dulce E Grizzard',\n",
       " 'Laurena P Caston',\n",
       " 'Edmund Mcclung',\n",
       " 'Therese Q Belden',\n",
       " 'Mauricio I Streets',\n",
       " 'Janie P Caswell']"
      ]
     },
     "execution_count": 26,
     "metadata": {},
     "output_type": "execute_result"
    }
   ],
   "source": [
    "result = list(reduce(set.intersection, map(set, [df1.Retrenchment, df2.Retrenchment])))\n",
    "result\n"
   ]
  },
  {
   "cell_type": "code",
   "execution_count": 13,
   "id": "959c0041",
   "metadata": {
    "scrolled": true
   },
   "outputs": [
    {
     "ename": "SyntaxError",
     "evalue": "invalid syntax (<unknown>, line 1)",
     "output_type": "error",
     "traceback": [
      "Traceback \u001b[1;36m(most recent call last)\u001b[0m:\n",
      "  File \u001b[0;32m~\\anaconda3\\lib\\site-packages\\IPython\\core\\interactiveshell.py:3369\u001b[0m in \u001b[0;35mrun_code\u001b[0m\n    exec(code_obj, self.user_global_ns, self.user_ns)\n",
      "  Input \u001b[0;32mIn [13]\u001b[0m in \u001b[0;35m<cell line: 1>\u001b[0m\n    df['cf'] = df[['Retrenchment','Promotion']].apply(\n",
      "  File \u001b[0;32m~\\anaconda3\\lib\\site-packages\\pandas\\core\\frame.py:8839\u001b[0m in \u001b[0;35mapply\u001b[0m\n    return op.apply().__finalize__(self, method=\"apply\")\n",
      "  File \u001b[0;32m~\\anaconda3\\lib\\site-packages\\pandas\\core\\apply.py:727\u001b[0m in \u001b[0;35mapply\u001b[0m\n    return self.apply_standard()\n",
      "  File \u001b[0;32m~\\anaconda3\\lib\\site-packages\\pandas\\core\\apply.py:851\u001b[0m in \u001b[0;35mapply_standard\u001b[0m\n    results, res_index = self.apply_series_generator()\n",
      "  File \u001b[0;32m~\\anaconda3\\lib\\site-packages\\pandas\\core\\apply.py:867\u001b[0m in \u001b[0;35mapply_series_generator\u001b[0m\n    results[i] = self.f(v)\n",
      "  Input \u001b[0;32mIn [13]\u001b[0m in \u001b[0;35m<lambda>\u001b[0m\n    lambda x: set(pd.eval(x['Retrenchment'])).intersection(pd.eval(x['Promotion'])),\n",
      "  File \u001b[0;32m~\\anaconda3\\lib\\site-packages\\pandas\\core\\computation\\eval.py:350\u001b[0m in \u001b[0;35meval\u001b[0m\n    parsed_expr = Expr(expr, engine=engine, parser=parser, env=env)\n",
      "  File \u001b[0;32m~\\anaconda3\\lib\\site-packages\\pandas\\core\\computation\\expr.py:811\u001b[0m in \u001b[0;35m__init__\u001b[0m\n    self.terms = self.parse()\n",
      "  File \u001b[0;32m~\\anaconda3\\lib\\site-packages\\pandas\\core\\computation\\expr.py:830\u001b[0m in \u001b[0;35mparse\u001b[0m\n    return self._visitor.visit(self.expr)\n",
      "  File \u001b[0;32m~\\anaconda3\\lib\\site-packages\\pandas\\core\\computation\\expr.py:411\u001b[0m in \u001b[0;35mvisit\u001b[0m\n    raise e\n",
      "  File \u001b[0;32m~\\anaconda3\\lib\\site-packages\\pandas\\core\\computation\\expr.py:407\u001b[0m in \u001b[0;35mvisit\u001b[0m\n    node = ast.fix_missing_locations(ast.parse(clean))\n",
      "\u001b[1;36m  File \u001b[1;32m~\\anaconda3\\lib\\ast.py:50\u001b[1;36m in \u001b[1;35mparse\u001b[1;36m\u001b[0m\n\u001b[1;33m    return compile(source, filename, mode, flags,\u001b[0m\n",
      "\u001b[1;36m  File \u001b[1;32m<unknown>:1\u001b[1;36m\u001b[0m\n\u001b[1;33m    Abbey Schindler\u001b[0m\n\u001b[1;37m          ^\u001b[0m\n\u001b[1;31mSyntaxError\u001b[0m\u001b[1;31m:\u001b[0m invalid syntax\n"
     ]
    }
   ],
   "source": [
    "df['cf'] = df[['Retrenchment','Promotion']].apply(\n",
    "    lambda x: set(pd.eval(x['Retrenchment'])).intersection(pd.eval(x['Promotion'])),\n",
    "    axis=1)\n",
    "print(df['cf'])   "
   ]
  },
  {
   "cell_type": "code",
   "execution_count": 10,
   "id": "368e2dc5",
   "metadata": {},
   "outputs": [
    {
     "data": {
      "text/plain": [
       "Series([], dtype: int64)"
      ]
     },
     "execution_count": 10,
     "metadata": {},
     "output_type": "execute_result"
    }
   ],
   "source": [
    "df[df['Retrenchment'] == df['Promotion']].value_counts()"
   ]
  },
  {
   "cell_type": "code",
   "execution_count": 6,
   "id": "8f48214d",
   "metadata": {
    "scrolled": true
   },
   "outputs": [
    {
     "name": "stdout",
     "output_type": "stream",
     "text": [
      "[]\n"
     ]
    }
   ],
   "source": [
    "staff = df.apply(pd.value_counts).notna()\n",
    "output= staff.index[staff.all(axis=1)].tolist()\n",
    "print(output)"
   ]
  },
  {
   "cell_type": "code",
   "execution_count": null,
   "id": "bd742136",
   "metadata": {},
   "outputs": [],
   "source": []
  },
  {
   "cell_type": "code",
   "execution_count": null,
   "id": "553834b3",
   "metadata": {},
   "outputs": [],
   "source": []
  },
  {
   "cell_type": "code",
   "execution_count": null,
   "id": "271b683b",
   "metadata": {},
   "outputs": [],
   "source": []
  },
  {
   "cell_type": "code",
   "execution_count": null,
   "id": "b3309b48",
   "metadata": {},
   "outputs": [],
   "source": []
  }
 ],
 "metadata": {
  "kernelspec": {
   "display_name": "Python 3 (ipykernel)",
   "language": "python",
   "name": "python3"
  },
  "language_info": {
   "codemirror_mode": {
    "name": "ipython",
    "version": 3
   },
   "file_extension": ".py",
   "mimetype": "text/x-python",
   "name": "python",
   "nbconvert_exporter": "python",
   "pygments_lexer": "ipython3",
   "version": "3.9.12"
  }
 },
 "nbformat": 4,
 "nbformat_minor": 5
}
